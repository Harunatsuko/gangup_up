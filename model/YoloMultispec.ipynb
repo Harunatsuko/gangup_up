{
 "cells": [
  {
   "cell_type": "code",
   "execution_count": null,
   "id": "d8a4f295",
   "metadata": {},
   "outputs": [],
   "source": [
    "import numpy as np\n",
    "import os\n",
    "import cv2\n",
    "import torch\n",
    "from torch.optim import Adam\n",
    "from tqdm import tqdm\n",
    "from model import YOLOV5m\n",
    "from utils.validation_utils import YOLO_EVAL\n",
    "from utils.training_utils import get_loaders\n",
    "from ultralytics_loss import ComputeLoss\n",
    "\n",
    "from utils.plot_utils import cells_to_bboxes, plot_image\n",
    "from utils.bboxes_utils import non_max_suppression\n",
    "\n",
    "import matplotlib.pyplot as plt"
   ]
  },
  {
   "cell_type": "code",
   "execution_count": null,
   "id": "c70252f0",
   "metadata": {},
   "outputs": [],
   "source": [
    "nc = 4\n",
    "labels = ['wood', 'glass', 'plastic', 'metal']\n",
    "first_out = 48\n",
    "ANCHORS = [\n",
    "    [(10, 13), (16, 30), (33, 23)],  # P3/8\n",
    "    [(30, 61), (62, 45), (59, 119)],  # P4/16\n",
    "    [(116, 90), (156, 198), (373, 326)]  # P5/32#\n",
    "]\n",
    "device = 'cuda' if torch.cuda.is_available() else 'cpu'"
   ]
  },
  {
   "cell_type": "code",
   "execution_count": null,
   "id": "eed1b46c",
   "metadata": {},
   "outputs": [],
   "source": [
    "model = YOLOV5m(first_out=first_out, nc=nc, anchors=ANCHORS,\n",
    "                ch=(first_out * 4, first_out * 8, first_out * 16), inference=False).to(device)"
   ]
  },
  {
   "cell_type": "code",
   "execution_count": null,
   "id": "d8978acb",
   "metadata": {},
   "outputs": [],
   "source": [
    "model.load_state_dict(torch.load('yolov5_v5_640_640.pth'))"
   ]
  },
  {
   "cell_type": "code",
   "execution_count": null,
   "id": "0c9ec333",
   "metadata": {},
   "outputs": [],
   "source": [
    "# model = model.to('cpu')\n",
    "# torch_input = torch.randn(1, 14, 640, 640)\n",
    "# export_output = torch.onnx.export(model, torch_input, 'yolov5_v6_640_640.onnx')"
   ]
  },
  {
   "cell_type": "code",
   "execution_count": null,
   "id": "eeb0de0c",
   "metadata": {},
   "outputs": [],
   "source": [
    "optim = Adam(model.parameters(), lr=0.00001)"
   ]
  },
  {
   "cell_type": "code",
   "execution_count": null,
   "id": "2e02c1d4",
   "metadata": {},
   "outputs": [],
   "source": [
    "optim.load_state_dict(torch.load('yolov5_v5_640_640_optim.pth'))"
   ]
  },
  {
   "cell_type": "code",
   "execution_count": null,
   "id": "98f009af",
   "metadata": {},
   "outputs": [],
   "source": [
    "save_logs = False\n",
    "rect_training = True\n",
    "filename = \"model_hack\"\n",
    "resume = False\n",
    "loss_fn = ComputeLoss(model, save_logs=save_logs, filename=filename, resume=resume)"
   ]
  },
  {
   "cell_type": "code",
   "execution_count": null,
   "id": "ec10a72f",
   "metadata": {},
   "outputs": [],
   "source": [
    "conf_threshold = 0.6\n",
    "nms_iou_thresh = 0.7\n",
    "map_iou_thresh = 0.7\n",
    "evaluate = YOLO_EVAL(save_logs=save_logs, conf_threshold=conf_threshold,\n",
    "                         nms_iou_thresh=nms_iou_thresh,\n",
    "                         map_iou_thresh=map_iou_thresh,\n",
    "                         device=device, filename=filename, resume=resume)"
   ]
  },
  {
   "cell_type": "code",
   "execution_count": null,
   "id": "9060785a",
   "metadata": {},
   "outputs": [],
   "source": [
    "root_path = 'C:\\\\Users\\\\Safiu\\\\Projects\\\\PHO_hack\\\\data\\\\'\n",
    "train_loader, val_loader = get_loaders(db_root_dir=root_path, batch_size=8, num_classes=nc,\n",
    "                                           box_format='yolo', ultralytics_loss=True,\n",
    "                                           rect_training=rect_training, num_workers=1)"
   ]
  },
  {
   "cell_type": "code",
   "execution_count": null,
   "id": "34a8889c",
   "metadata": {
    "scrolled": true
   },
   "outputs": [],
   "source": [
    "best_cls_acc = 0\n",
    "best_obj_acc = 0\n",
    "for epoch in range(1,500):\n",
    "        print(epoch)\n",
    "        model.train()\n",
    "\n",
    "#         loop = tqdm(train_loader)\n",
    "        avg_batches_loss = 0\n",
    "        loss_epoch = 0\n",
    "        nb = len(train_loader)\n",
    "        optim.zero_grad()\n",
    "        idx = 0\n",
    "        for images, bboxes in train_loader:\n",
    "            images = images.float() / 255\n",
    "\n",
    "\n",
    "            images = images.to(device)\n",
    "            bboxes = bboxes.to(device)\n",
    "            # BBOXES AND CLASSES ARE PUSHED to.(DEVICE) INSIDE THE LOSS_FN\n",
    "\n",
    "            # If I had a V100...\n",
    "#             with torch.cuda.amp.autocast():\n",
    "            out = model(images)\n",
    "            loss = loss_fn(out, bboxes, pred_size=images.shape[2:4], batch_idx=idx, epoch=epoch)\n",
    "            avg_batches_loss += loss\n",
    "            loss_epoch += loss\n",
    "\n",
    "            # backpropagation\n",
    "            # check docs here https://pytorch.org/docs/stable/amp.html\n",
    "            loss.backward()\n",
    "            optim.step()\n",
    "            idx = idx +1\n",
    "\n",
    "        print(f\"==> training_loss: {(loss_epoch.item() / nb):.2f}\")\n",
    "\n",
    "        model.eval()\n",
    "\n",
    "        cls_acc, obj_acc = evaluate.check_class_accuracy(model, val_loader)\n",
    "        evaluate.map_pr_rec(model, val_loader, anchors=model.head.anchors, epoch=epoch)"
   ]
  },
  {
   "cell_type": "code",
   "execution_count": null,
   "id": "15cd7529",
   "metadata": {},
   "outputs": [],
   "source": [
    "# model.eval()\n",
    "# torch.save(optim.state_dict(), 'yolov5_v6_640_640_optim.pth')\n",
    "# torch.save(model.state_dict(), 'yolov5_v6_640_640.pth')"
   ]
  },
  {
   "cell_type": "code",
   "execution_count": null,
   "id": "3cbcaa77",
   "metadata": {},
   "outputs": [],
   "source": [
    "model.eval()\n",
    "# model = model.to(device)\n",
    "test_arr = np.load('3000.npy')\n",
    "test_arr = np.expand_dims(test_arr, 0)\n",
    "test_arr = np.float32(test_arr)/255\n",
    "test_arr = torch.from_numpy(test_arr)\n",
    "test_arr = test_arr.to(device)\n",
    "with torch.no_grad():\n",
    "    out = model(test_arr)"
   ]
  },
  {
   "cell_type": "code",
   "execution_count": null,
   "id": "2bddd9ee",
   "metadata": {},
   "outputs": [],
   "source": [
    "bboxes = cells_to_bboxes(out, model.head.anchors, model.head.stride, is_pred=True, to_list=False)\n",
    "bboxes = non_max_suppression(bboxes, iou_threshold=0.6, threshold=0.2, tolist=False)"
   ]
  },
  {
   "cell_type": "code",
   "execution_count": null,
   "id": "cc543700",
   "metadata": {},
   "outputs": [],
   "source": [
    "len(bboxes)"
   ]
  },
  {
   "cell_type": "code",
   "execution_count": null,
   "id": "7860a600",
   "metadata": {},
   "outputs": [],
   "source": [
    "test_arr = np.load('3000.npy')\n",
    "test_arr = test_arr[0:3].copy()\n",
    "test_arr = np.moveaxis(test_arr, 0, -1)\n",
    "test_arr = np.uint8(test_arr)\n",
    "plt.imshow(test_arr)"
   ]
  },
  {
   "cell_type": "code",
   "execution_count": null,
   "id": "5dced221",
   "metadata": {},
   "outputs": [],
   "source": [
    "bboxes = bboxes.cpu().detach()\n",
    "plot_image(test_arr, bboxes, labels)"
   ]
  },
  {
   "cell_type": "code",
   "execution_count": null,
   "id": "b353fd66",
   "metadata": {},
   "outputs": [],
   "source": []
  },
  {
   "cell_type": "code",
   "execution_count": null,
   "id": "b963245a",
   "metadata": {},
   "outputs": [],
   "source": []
  }
 ],
 "metadata": {
  "kernelspec": {
   "display_name": "Python 3",
   "language": "python",
   "name": "python3"
  },
  "language_info": {
   "codemirror_mode": {
    "name": "ipython",
    "version": 3
   },
   "file_extension": ".py",
   "mimetype": "text/x-python",
   "name": "python",
   "nbconvert_exporter": "python",
   "pygments_lexer": "ipython3",
   "version": "3.8.8"
  }
 },
 "nbformat": 4,
 "nbformat_minor": 5
}
